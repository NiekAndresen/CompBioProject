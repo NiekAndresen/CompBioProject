{
 "cells": [
  {
   "cell_type": "code",
   "execution_count": 59,
   "metadata": {
    "collapsed": false
   },
   "outputs": [],
   "source": [
    "import pandas as pd\n",
    "import numpy as np"
   ]
  },
  {
   "cell_type": "code",
   "execution_count": 24,
   "metadata": {
    "collapsed": false
   },
   "outputs": [
    {
     "name": "stdout",
     "output_type": "stream",
     "text": [
      "['Run', 'decoy', 'BasePeptide1', 'PeptideMass1', 'Start1', 'LengthPeptide1', 'Linked_AminoAcid_1', 'LinkWindow1', 'ProteinLink1', 'Modifications1', 'BasePeptide2', 'PeptideMass2', 'Start2', 'LengthPeptide2', 'Linked_AminoAcid_2', 'LinkWindow2', 'ProteinLink2', 'Modifications2', 'match_score']\n",
      "['Run', 'decoy', 'BasePeptide1', 'PeptideMass1', 'Start1', 'LengthPeptide1', 'Linked AminoAcid 1', 'LinkWindow1', 'ProteinLink1', 'Modifications1', 'BasePeptide2', 'PeptideMass2', 'Start2', 'LengthPeptide2', 'Linked AminoAcid 2', 'LinkWindow2', 'ProteinLink2', 'Modifications2', 'match score']\n"
     ]
    }
   ],
   "source": [
    "with open('/home/niek/HSA_data/header_reduced', 'r') as hr:\n",
    "    header = hr.readline()[:-1] #removed \\n at the end of line\n",
    "columns = []\n",
    "for key in header.split(','):\n",
    "    columns.append(key)\n",
    "#replace '_' by ' ' again\n",
    "columns = list(map(lambda string: string.replace('_',' '), columns))\n",
    "print(columns)"
   ]
  },
  {
   "cell_type": "code",
   "execution_count": 55,
   "metadata": {
    "collapsed": false
   },
   "outputs": [
    {
     "name": "stdout",
     "output_type": "stream",
     "text": [
      "Run                                 Belsom_Rappsilber_PurHSA_02\n",
      "decoy                                                         1\n",
      "BasePeptide1                                        LSVEAFEKAPR\n",
      "PeptideMass1                                            1245.67\n",
      "Start1                                                      353\n",
      "LengthPeptide1                                               11\n",
      "Linked AminoAcid 1                                            L\n",
      "LinkWindow1           CELLDGHCCETHKVTLDTVKLSVEAFEKAPRFQSRLAVAWK\n",
      "ProteinLink1                                                353\n",
      "Modifications1                                              NaN\n",
      "BasePeptide2                                       YICENQDSISSK\n",
      "PeptideMass2                                            1442.63\n",
      "Start2                                                      263\n",
      "LengthPeptide2                                               12\n",
      "Linked AminoAcid 2                                            Y\n",
      "LinkWindow2           TECCHGDLLECADDRADLAKYICENQDSISSKLKECCEKPL\n",
      "ProteinLink2                                                263\n",
      "Modifications2                                              Ccm\n",
      "match score                                            -1.25919\n",
      "Name: 0, dtype: object\n"
     ]
    }
   ],
   "source": [
    "i = 0\n",
    "for chunk in chunks:\n",
    "    if i > 0:\n",
    "        break\n",
    "    i += 1\n",
    "    print(chunk.iloc[0])"
   ]
  },
  {
   "cell_type": "code",
   "execution_count": 50,
   "metadata": {
    "collapsed": false
   },
   "outputs": [],
   "source": [
    "chunks = pd.read_csv(\"/home/niek/HSA_data/data_experiment_1_2.csv\", usecols=columns, chunksize=1e5)"
   ]
  },
  {
   "cell_type": "code",
   "execution_count": 47,
   "metadata": {
    "collapsed": false
   },
   "outputs": [
    {
     "name": "stdout",
     "output_type": "stream",
     "text": [
      "1\n",
      "1\n",
      "0\n",
      "1\n",
      "1\n",
      "1\n",
      "1\n",
      "1\n",
      "1\n"
     ]
    }
   ],
   "source": [
    "for chunk in chunks:\n",
    "    for i,row in chunk.iterrows():\n",
    "        if i > 0:\n",
    "            break\n",
    "        if row['decoy'] == 0:\n",
    "            continue\n",
    "        aa1Idx = row['ProteinLink1']\n",
    "        aa2Idx = row['ProteinLink2']\n",
    "        aa1Name = row['Linked AminoAcid 1']\n",
    "        aa2Name = row['Linked AminoAcid 2']"
   ]
  },
  {
   "cell_type": "code",
   "execution_count": 32,
   "metadata": {
    "collapsed": false
   },
   "outputs": [
    {
     "ename": "TypeError",
     "evalue": "'method' object is not subscriptable",
     "output_type": "error",
     "traceback": [
      "\u001b[1;31m---------------------------------------------------------------------------\u001b[0m",
      "\u001b[1;31mTypeError\u001b[0m                                 Traceback (most recent call last)",
      "\u001b[1;32m<ipython-input-32-e17b57bde5ed>\u001b[0m in \u001b[0;36m<module>\u001b[1;34m()\u001b[0m\n\u001b[1;32m----> 1\u001b[1;33m \u001b[0mchunk\u001b[0m \u001b[1;33m=\u001b[0m \u001b[0mchunks\u001b[0m\u001b[1;33m.\u001b[0m\u001b[0mget_chunk\u001b[0m\u001b[1;33m[\u001b[0m\u001b[1;36m0\u001b[0m\u001b[1;33m]\u001b[0m\u001b[1;33m\u001b[0m\u001b[0m\n\u001b[0m",
      "\u001b[1;31mTypeError\u001b[0m: 'method' object is not subscriptable"
     ]
    }
   ],
   "source": []
  },
  {
   "cell_type": "code",
   "execution_count": null,
   "metadata": {
    "collapsed": true
   },
   "outputs": [],
   "source": []
  }
 ],
 "metadata": {
  "kernelspec": {
   "display_name": "Python 3",
   "language": "python",
   "name": "python3"
  },
  "language_info": {
   "codemirror_mode": {
    "name": "ipython",
    "version": 3
   },
   "file_extension": ".py",
   "mimetype": "text/x-python",
   "name": "python",
   "nbconvert_exporter": "python",
   "pygments_lexer": "ipython3",
   "version": "3.5.2"
  }
 },
 "nbformat": 4,
 "nbformat_minor": 0
}
