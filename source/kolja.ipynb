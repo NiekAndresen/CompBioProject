{
 "cells": [
  {
   "cell_type": "code",
   "execution_count": 1,
   "metadata": {
    "collapsed": true
   },
   "outputs": [],
   "source": [
    "import numpy as np\n",
    "import matplotlib.pylab as plt\n",
    "%matplotlib inline"
   ]
  },
  {
   "cell_type": "code",
   "execution_count": 2,
   "metadata": {
    "collapsed": true
   },
   "outputs": [],
   "source": [
    "def get_range(data, min_sep = 24, max_sep=9999999):\n",
    "    diff = data[:,1] - data[:,0]\n",
    "    return np.where((diff >= min_sep) & (diff <= max_sep))[0]\n",
    "\n",
    "def get_bounds(data, lb, ub):\n",
    "    return np.where((data[:,0] >= lb) & (data[:,0] <= ub) & (data[:,1] >= lb) & (data[:,1] <= ub))"
   ]
  },
  {
   "cell_type": "code",
   "execution_count": 3,
   "metadata": {
    "collapsed": true
   },
   "outputs": [],
   "source": [
    "def get_subset(file, lb=1, ub=99999999999999999999):\n",
    "    xl = np.loadtxt(file,usecols=(7,8,11),delimiter=',',dtype=bytes,skiprows=1).astype(str)\n",
    "\n",
    "    xl = xl[np.where(xl[:,2] == 'TRUE')[0]] # use only Target-Target matches\n",
    "    xl = xl[:,:2].astype(int)\n",
    "\n",
    "    xl = np.array([sorted(row) for row in xl if row[0] != row[1]]) # residue position with i < j; remove self-loops\n",
    "#     print(xl,lb,ub)\n",
    "    xl = xl[get_bounds(xl,lb,ub)]\n",
    "\n",
    "    print(\"short: %d medium: %d long: %d\" % (get_range(xl,min_sep=1,max_sep=11).shape[0],get_range(xl,min_sep=12,max_sep=23).shape[0],get_range(xl).shape[0]))\n",
    "\n",
    "    xl = xl[get_range(xl,min_sep=12,max_sep=9999999999)]\n",
    "#     if args.renumber:\n",
    "    xl[:,:2] -= lb - 1\n",
    "    return xl"
   ]
  },
  {
   "cell_type": "code",
   "execution_count": 4,
   "metadata": {
    "collapsed": true
   },
   "outputs": [],
   "source": [
    "ground_truth = 'MKWVTFISLLFLFSSAYSRGVFRRDAHKSEVAHRFKDLGEENFKALVLIAFAQYLQQCPFEDHVKLVNEVTEFAKTCVADESAENCDKSLHTLFGDKLCTVATLRETYGEMADCCAKQEPERNECFLQHKDDNPNLPRLVRPEVDVMCTAFHDNEETFLKKYLYEIARRHPYFYAPELLFFAKRYKAAFTECCQAADKAACLLPKLDELRDEGKASSAKQRLKCASLQKFGERAFKAWAVARLSQRFPKAEFAEVSKLVTDLTKVHTECCHGDLLECADDRADLAKYICENQDSISSKLKECCEKPLLEKSHCIAEVENDEMPADLPSLAADFVESKDVCKNYAEAKDVFLGMFLYEYARRHPDYSVVLLLRLAKTYETTLEKCCAAADPHECYAKVFDEFKPLVEEPQNLIKQNCELFEQLGEYKFQNALLVRYTKKVPQVSTPTLVEVSRNLGKVGSKCCKHPEAKRMPCAEDYLSVVLNQLCVLHEKTPVSDRVTKCCTESLVNRRPCFSALEVDETYVPKEFNAETFTFHADICTLSEKERQIKKQTALVELVKHKPKATKEQLKAVMDDFAAFVEKCCKADDKETCFAEEGKKLVAASQAALGL'"
   ]
  },
  {
   "cell_type": "code",
   "execution_count": 5,
   "metadata": {
    "collapsed": true
   },
   "outputs": [],
   "source": [
    "full = 'SEVAHRFKDLGEENFKALVLIAFAQYLQQCPFEDHVKLVNEVTEFAKTCVADESAENCDKSLHTLFGDKLCTVATLRETYGEMADCCAKQEPERNECFLQHKDDNPNLPRLVRPEVDVMCTAFHDNEETFLKKYLYEIARRHPYFYAPELLFFAKRYKAAFTECCQAADKAACLLPKLDELRDEGKASSAKQRLKCASLQKFGERAFKAWAVARLSQRFPKAEFAEVSKLVTDLTKVHTECCHGDLLECADDRADLAKYICENQDSISSKLKECCEKPLLEKSHCIAEVENDEMPADLPSLAADFVESKDVCKNYAEAKDVFLGMFLYEYARRHPDYSVVLLLRLAKTYETTLEKCCAAADPHECYAKVFDEFKPLVEEPQNLIKQNCELFEQLGEYKFQNALLVRYTKKVPQVSTPTLVEVSRNLGKVGSKCCKHPEAKRMPCAEDYLSVVLNQLCVLHEKTPVSDRVTKCCTESLVNRRPCFSALEVDETYVPKEFNAETFTFHADICTLSEKERQIKKQTALVELVKHKPKATKEQLKAVMDDFAAFVEKCCKADDKETCFAEEGKKLVAASQAA'\n",
    "domainA = 'SEVAHRFKDLGEENFKALVLIAFAQYLQQCPFEDHVKLVNEVTEFAKTCVADESAENCDKSLHTLFGDKLCTVATLRETYGEMADCCAKQEPERNECFLQHKDDNPNLPRLVRPEVDVMCTAFHDNEETFLKKYLYEIARRHPYFYAPELLFFAKRYKAAFTECCQAADKAACLLPKLDELRDEGKASSAKQRLKCA'\n",
    "domainB = 'SLQKFGERAFKAWAVARLSQRFPKAEFAEVSKLVTDLTKVHTECCHGDLLECADDRADLAKYICENQDSISSKLKECCEKPLLEKSHCIAEVENDEMPADLPSLAADFVESKDVCKNYAEAKDVFLGMFLYEYARRHPDYSVVLLLRLAKTYETTLEKCCAAADPHECYAKVFDEFKPLVEEPQNLIKQ'\n",
    "domainC = 'NCELFEQLGEYKFQNALLVRYTKKVPQVSTPTLVEVSRNLGKVGSKCCKHPEAKRMPCAEDYLSVVLNQLCVLHEKTPVSDRVTKCCTESLVNRRPCFSALEVDETYVPKEFNAETFTFHADICTLSEKERQIKKQTALVELVKHKPKATKEQLKAVMDDFAAFVEKCCKADDKETCFAEEGKKLVAASQAA'"
   ]
  },
  {
   "cell_type": "code",
   "execution_count": 6,
   "metadata": {
    "collapsed": false
   },
   "outputs": [
    {
     "data": {
      "text/plain": [
       "28"
      ]
     },
     "execution_count": 6,
     "metadata": {},
     "output_type": "execute_result"
    }
   ],
   "source": [
    "ground_truth.find(full)"
   ]
  },
  {
   "cell_type": "code",
   "execution_count": 7,
   "metadata": {
    "collapsed": true
   },
   "outputs": [],
   "source": [
    "offsetFull = ground_truth.find(full)\n",
    "offsetA = ground_truth.find(domainA)\n",
    "offsetB = ground_truth.find(domainB)\n",
    "offsetC = ground_truth.find(domainC)"
   ]
  },
  {
   "cell_type": "code",
   "execution_count": 8,
   "metadata": {
    "collapsed": false
   },
   "outputs": [
    {
     "data": {
      "text/plain": [
       "True"
      ]
     },
     "execution_count": 8,
     "metadata": {},
     "output_type": "execute_result"
    }
   ],
   "source": [
    "ground_truth[offsetA:len(domainA)+offsetA] == domainA"
   ]
  },
  {
   "cell_type": "code",
   "execution_count": 9,
   "metadata": {
    "collapsed": false
   },
   "outputs": [
    {
     "name": "stdout",
     "output_type": "stream",
     "text": [
      "short: 371 medium: 104 long: 604\n",
      "short: 154 medium: 43 long: 170\n",
      "short: 68 medium: 18 long: 39\n",
      "short: 137 medium: 20 long: 127\n",
      "short: 798 medium: 257 long: 2029\n",
      "short: 292 medium: 96 long: 383\n",
      "short: 158 medium: 54 long: 100\n",
      "short: 316 medium: 62 long: 288\n",
      "short: 911 medium: 889 long: 16673\n",
      "short: 323 medium: 288 long: 1863\n",
      "short: 206 medium: 215 long: 1142\n",
      "short: 350 medium: 297 long: 1875\n"
     ]
    }
   ],
   "source": [
    "xl20Full = get_subset('20PercentFDR_xiFDR0.csv',offsetFull,len(full)+offsetFull-1)\n",
    "xl20A = get_subset('20PercentFDR_xiFDR0.csv',offsetA,len(domainA)+offsetA-1)\n",
    "xl20B = get_subset('20PercentFDR_xiFDR0.csv',offsetB,len(domainB)+offsetB-1)\n",
    "xl20C = get_subset('20PercentFDR_xiFDR0.csv',offsetC,len(domainC)+offsetC-1)\n",
    "xl50Full = get_subset('50PercentFDR_xiFDR0.csv',offsetFull,len(full)+offsetFull-1)\n",
    "xl50A = get_subset('50PercentFDR_xiFDR0.csv',offsetA,len(domainA)+offsetA-1)\n",
    "xl50B = get_subset('50PercentFDR_xiFDR0.csv',offsetB,len(domainB)+offsetB-1)\n",
    "xl50C = get_subset('50PercentFDR_xiFDR0.csv',offsetC,len(domainC)+offsetC-1)\n",
    "xl100Full = get_subset('100PercentFDR_xiFDR0.csv',offsetFull,len(full)+offsetFull-1)\n",
    "xl100A = get_subset('100PercentFDR_xiFDR0.csv',offsetA,len(domainA)+offsetA-1)\n",
    "xl100B = get_subset('100PercentFDR_xiFDR0.csv',offsetB,len(domainB)+offsetB-1)\n",
    "xl100C = get_subset('100PercentFDR_xiFDR0.csv',offsetC,len(domainC)+offsetC-1)"
   ]
  },
  {
   "cell_type": "code",
   "execution_count": 10,
   "metadata": {
    "collapsed": true
   },
   "outputs": [],
   "source": [
    "contactsFull = np.loadtxt('1ao6.contacts')\n",
    "distancesFull = { tuple(row[:2]) : row[2] for row in contactsFull }\n",
    "contactsA = np.loadtxt('1ao6A.contacts')\n",
    "distancesA = { tuple(row[:2]) : row[2] for row in contactsA }\n",
    "contactsB = np.loadtxt('1ao6B.contacts')\n",
    "distancesB = { tuple(row[:2]) : row[2] for row in contactsB }\n",
    "contactsC = np.loadtxt('1ao6C.contacts')\n",
    "distancesC = { tuple(row[:2]) : row[2] for row in contactsC }"
   ]
  },
  {
   "cell_type": "code",
   "execution_count": 11,
   "metadata": {
    "collapsed": false
   },
   "outputs": [
    {
     "data": {
      "text/plain": [
       "(2151, 2)"
      ]
     },
     "execution_count": 11,
     "metadata": {},
     "output_type": "execute_result"
    }
   ],
   "source": [
    "xl100A.shape"
   ]
  },
  {
   "cell_type": "code",
   "execution_count": 12,
   "metadata": {
    "collapsed": true
   },
   "outputs": [],
   "source": [
    "dist_xl20Full = np.array([distancesFull[tuple(row[:2])] for row in xl20Full])\n",
    "dist_xl20A = np.array([distancesA[tuple(row[:2])] for row in xl20A])\n",
    "dist_xl20B = np.array([distancesB[tuple(row[:2])] for row in xl20B])\n",
    "dist_xl20C = np.array([distancesC[tuple(row[:2])] for row in xl20C])\n",
    "dist_xl50Full = np.array([distancesFull[tuple(row[:2])] for row in xl50Full])\n",
    "dist_xl50A = np.array([distancesA[tuple(row[:2])] for row in xl50A])\n",
    "dist_xl50B = np.array([distancesB[tuple(row[:2])] for row in xl50B])\n",
    "dist_xl50C = np.array([distancesC[tuple(row[:2])] for row in xl50C])\n",
    "dist_xl100Full = np.array([distancesFull[tuple(row[:2])] for row in xl100Full])\n",
    "dist_xl100A = np.array([distancesA[tuple(row[:2])] for row in xl100A])\n",
    "dist_xl100B = np.array([distancesB[tuple(row[:2])] for row in xl100B])\n",
    "dist_xl100C = np.array([distancesC[tuple(row[:2])] for row in xl100C])"
   ]
  },
  {
   "cell_type": "code",
   "execution_count": 16,
   "metadata": {
    "collapsed": false
   },
   "outputs": [
    {
     "data": {
      "text/plain": [
       "0.71610169491525422"
      ]
     },
     "execution_count": 16,
     "metadata": {},
     "output_type": "execute_result"
    }
   ],
   "source": [
    "np.sum(dist_xl20Full < 25) / len(dist_xl20Full)"
   ]
  },
  {
   "cell_type": "code",
   "execution_count": 14,
   "metadata": {
    "collapsed": false
   },
   "outputs": [
    {
     "data": {
      "text/plain": [
       "0.71610169491525422"
      ]
     },
     "execution_count": 14,
     "metadata": {},
     "output_type": "execute_result"
    }
   ],
   "source": [
    "np.sum(dist_xl20Full < 25) / len(dist_xl20Full)"
   ]
  },
  {
   "cell_type": "code",
   "execution_count": 97,
   "metadata": {
    "collapsed": false
   },
   "outputs": [
    {
     "data": {
      "text/plain": [
       "<Container object of 2286 artists>"
      ]
     },
     "execution_count": 97,
     "metadata": {},
     "output_type": "execute_result"
    },
    {
     "data": {
      "image/png": "[encoded data removed]",
      "text/plain": [
       "<matplotlib.figure.Figure at 0x7f2eec9360f0>"
      ]
     },
     "metadata": {},
     "output_type": "display_data"
    }
   ],
   "source": [
    "plt.bar(np.arange(len(dist_xl50Full)),dist_xl50Full)"
   ]
  },
  {
   "cell_type": "code",
   "execution_count": 106,
   "metadata": {
    "collapsed": false
   },
   "outputs": [
    {
     "data": {
      "text/plain": [
       "0.53812056737588654"
      ]
     },
     "execution_count": 106,
     "metadata": {},
     "output_type": "execute_result"
    }
   ],
   "source": [
    "np.sum(dist_xl50Full > 35) / np.sum(dist_xl50Full > 25)"
   ]
  },
  {
   "cell_type": "code",
   "execution_count": 82,
   "metadata": {
    "collapsed": false
   },
   "outputs": [
    {
     "data": {
      "text/plain": [
       "0.76200417536534448"
      ]
     },
     "execution_count": 82,
     "metadata": {},
     "output_type": "execute_result"
    }
   ],
   "source": [
    "np.sum(dist_xl50A < 25) / len(dist_xl50A)"
   ]
  },
  {
   "cell_type": "code",
   "execution_count": 83,
   "metadata": {
    "collapsed": false
   },
   "outputs": [
    {
     "data": {
      "text/plain": [
       "<Container object of 479 artists>"
      ]
     },
     "execution_count": 83,
     "metadata": {},
     "output_type": "execute_result"
    },
    {
     "data": {
      "image/png": "[encoded data removed]",
      "text/plain": [
       "<matplotlib.figure.Figure at 0x7f2eed9a1cf8>"
      ]
     },
     "metadata": {},
     "output_type": "display_data"
    }
   ],
   "source": [
    "plt.bar(np.arange(len(dist_xl50A)),dist_xl50A)"
   ]
  },
  {
   "cell_type": "code",
   "execution_count": 84,
   "metadata": {
    "collapsed": false
   },
   "outputs": [
    {
     "data": {
      "text/plain": [
       "<Container object of 154 artists>"
      ]
     },
     "execution_count": 84,
     "metadata": {},
     "output_type": "execute_result"
    },
    {
     "data": {
      "image/png": "[encoded data removed]",
      "text/plain": [
       "<matplotlib.figure.Figure at 0x7f2eed8e5ef0>"
      ]
     },
     "metadata": {},
     "output_type": "display_data"
    }
   ],
   "source": [
    "plt.bar(np.arange(len(dist_xl50B)),dist_xl50B)"
   ]
  },
  {
   "cell_type": "code",
   "execution_count": 76,
   "metadata": {
    "collapsed": false
   },
   "outputs": [
    {
     "data": {
      "text/plain": [
       "0.96491228070175439"
      ]
     },
     "execution_count": 76,
     "metadata": {},
     "output_type": "execute_result"
    }
   ],
   "source": [
    "np.sum(dist_xl20B < 25) / len(dist_xl20B)"
   ]
  },
  {
   "cell_type": "code",
   "execution_count": 86,
   "metadata": {
    "collapsed": false
   },
   "outputs": [
    {
     "data": {
      "text/plain": [
       "<Container object of 2172 artists>"
      ]
     },
     "execution_count": 86,
     "metadata": {},
     "output_type": "execute_result"
    },
    {
     "data": {
      "image/png": "[encoded data removed]",
      "text/plain": [
       "<matplotlib.figure.Figure at 0x7f2eed05d128>"
      ]
     },
     "metadata": {},
     "output_type": "display_data"
    }
   ],
   "source": [
    "plt.bar(np.arange(len(dist_xl100C)),dist_xl100C)"
   ]
  },
  {
   "cell_type": "code",
   "execution_count": 75,
   "metadata": {
    "collapsed": false
   },
   "outputs": [
    {
     "data": {
      "text/plain": [
       "0.8571428571428571"
      ]
     },
     "execution_count": 75,
     "metadata": {},
     "output_type": "execute_result"
    }
   ],
   "source": [
    "np.sum(dist_xl20C < 25) / len(dist_xl20C)"
   ]
  },
  {
   "cell_type": "code",
   "execution_count": 59,
   "metadata": {
    "collapsed": false
   },
   "outputs": [
    {
     "data": {
      "text/plain": [
       "array([[132, 159],\n",
       "       [ 42,  70],\n",
       "       [131, 158],\n",
       "       [132, 158],\n",
       "       [150, 196],\n",
       "       [128, 158],\n",
       "       [128, 159],\n",
       "       [ 14, 159],\n",
       "       [ 14, 158],\n",
       "       [ 14, 133],\n",
       "       [131, 159],\n",
       "       [ 45,  70],\n",
       "       [149, 196],\n",
       "       [130, 159],\n",
       "       [ 41,  70],\n",
       "       [129, 158],\n",
       "       [ 15, 159],\n",
       "       [ 16, 159],\n",
       "       [ 10, 159],\n",
       "       [ 39,  70],\n",
       "       [133, 158],\n",
       "       [  8, 159],\n",
       "       [152, 196],\n",
       "       [ 43,  70],\n",
       "       [ 13, 159],\n",
       "       [ 14, 156],\n",
       "       [122, 159],\n",
       "       [124, 159],\n",
       "       [ 10, 158],\n",
       "       [ 11, 159],\n",
       "       [151, 196],\n",
       "       [129, 159],\n",
       "       [ 40,  70],\n",
       "       [ 11, 158],\n",
       "       [ 35, 135],\n",
       "       [126, 156],\n",
       "       [ 13, 156],\n",
       "       [ 16, 133],\n",
       "       [ 16, 156],\n",
       "       [ 37, 135],\n",
       "       [ 15, 156],\n",
       "       [ 15, 158],\n",
       "       [ 12, 159],\n",
       "       [ 90, 102],\n",
       "       [121, 134],\n",
       "       [ 32, 135],\n",
       "       [ 36, 134],\n",
       "       [ 96, 196],\n",
       "       [  8,  49],\n",
       "       [ 16, 158],\n",
       "       [127, 159],\n",
       "       [ 10, 156],\n",
       "       [130, 157],\n",
       "       [ 42,  73],\n",
       "       [125, 158],\n",
       "       [125, 156],\n",
       "       [145, 196],\n",
       "       [ 32, 134],\n",
       "       [134, 158],\n",
       "       [ 70, 136],\n",
       "       [ 97, 196],\n",
       "       [164, 178],\n",
       "       [ 12, 158],\n",
       "       [ 36, 135],\n",
       "       [123, 159],\n",
       "       [ 35, 134],\n",
       "       [123, 158],\n",
       "       [159, 177],\n",
       "       [ 13, 158],\n",
       "       [ 46,  70],\n",
       "       [ 42,  65],\n",
       "       [ 89, 103],\n",
       "       [143, 196],\n",
       "       [120, 158],\n",
       "       [ 12, 156],\n",
       "       [126, 159],\n",
       "       [ 37, 134],\n",
       "       [135, 159],\n",
       "       [145, 186],\n",
       "       [153, 196],\n",
       "       [120, 159],\n",
       "       [ 47,  70],\n",
       "       [ 11, 156],\n",
       "       [125, 159],\n",
       "       [  9, 159],\n",
       "       [122, 158],\n",
       "       [ 10, 196],\n",
       "       [154, 196],\n",
       "       [147, 196],\n",
       "       [ 13, 133],\n",
       "       [147, 197],\n",
       "       [122, 156],\n",
       "       [136, 159],\n",
       "       [148, 196],\n",
       "       [ 34, 134],\n",
       "       [133, 159],\n",
       "       [121, 135],\n",
       "       [145, 195],\n",
       "       [124, 156],\n",
       "       [  8, 158],\n",
       "       [128, 156],\n",
       "       [ 71, 192],\n",
       "       [  8, 156],\n",
       "       [  9, 158],\n",
       "       [155, 196],\n",
       "       [180, 196],\n",
       "       [122, 154],\n",
       "       [ 71, 187],\n",
       "       [ 15, 133],\n",
       "       [ 47,  65],\n",
       "       [ 44,  68],\n",
       "       [127, 156],\n",
       "       [145, 197],\n",
       "       [ 71, 189],\n",
       "       [ 41,  65],\n",
       "       [184, 196],\n",
       "       [ 71, 190],\n",
       "       [ 44,  71],\n",
       "       [ 90, 103],\n",
       "       [159, 179],\n",
       "       [122, 134],\n",
       "       [158, 177],\n",
       "       [ 28, 135],\n",
       "       [123, 135],\n",
       "       [ 60, 190],\n",
       "       [135, 158],\n",
       "       [ 33, 135],\n",
       "       [144, 196],\n",
       "       [  9, 155],\n",
       "       [124, 158],\n",
       "       [163, 177],\n",
       "       [120, 156],\n",
       "       [146, 196],\n",
       "       [147, 195],\n",
       "       [123, 156],\n",
       "       [  2,  71],\n",
       "       [130, 158],\n",
       "       [122, 136],\n",
       "       [ 44,  69],\n",
       "       [177, 189],\n",
       "       [122, 157],\n",
       "       [126, 158],\n",
       "       [ 14, 130],\n",
       "       [129, 156],\n",
       "       [ 49, 136],\n",
       "       [130, 160],\n",
       "       [ 42,  62],\n",
       "       [ 10, 133],\n",
       "       [ 41,  62],\n",
       "       [183, 196],\n",
       "       [117, 134],\n",
       "       [ 30, 134],\n",
       "       [159, 193],\n",
       "       [122, 155],\n",
       "       [ 34, 135],\n",
       "       [ 72, 190],\n",
       "       [145, 180],\n",
       "       [179, 196],\n",
       "       [ 15, 130],\n",
       "       [ 59, 190],\n",
       "       [135, 160],\n",
       "       [ 40,  73],\n",
       "       [105, 196],\n",
       "       [ 44,  70],\n",
       "       [ 40,  65],\n",
       "       [  8, 190],\n",
       "       [133, 160],\n",
       "       [ 71, 196],\n",
       "       [ 90, 110],\n",
       "       [ 39,  73],\n",
       "       [  3,  73],\n",
       "       [132, 156],\n",
       "       [  2,  62],\n",
       "       [131, 156],\n",
       "       [ 43,  73],\n",
       "       [ 90, 105],\n",
       "       [ 90, 104],\n",
       "       [158, 179],\n",
       "       [ 11, 196],\n",
       "       [163, 175],\n",
       "       [121, 159],\n",
       "       [141, 187],\n",
       "       [177, 190],\n",
       "       [ 90, 106],\n",
       "       [ 70, 197],\n",
       "       [  8, 133],\n",
       "       [120, 135],\n",
       "       [ 11, 133],\n",
       "       [ 70, 138],\n",
       "       [ 39,  65],\n",
       "       [ 13, 130],\n",
       "       [ 86, 103],\n",
       "       [ 26, 135],\n",
       "       [ 73, 150],\n",
       "       [130, 154],\n",
       "       [  6, 187],\n",
       "       [ 70, 140],\n",
       "       [ 76, 149],\n",
       "       [122, 138],\n",
       "       [114, 134],\n",
       "       [ 73, 136],\n",
       "       [ 62, 136],\n",
       "       [  2, 155],\n",
       "       [ 59, 187],\n",
       "       [ 71, 130],\n",
       "       [ 73, 143],\n",
       "       [ 49, 140],\n",
       "       [ 32,  44],\n",
       "       [ 91, 103],\n",
       "       [ 70,  82],\n",
       "       [110, 122],\n",
       "       [151, 163],\n",
       "       [175, 187]])"
      ]
     },
     "execution_count": 59,
     "metadata": {},
     "output_type": "execute_result"
    }
   ],
   "source": [
    "xl20A"
   ]
  },
  {
   "cell_type": "code",
   "execution_count": 113,
   "metadata": {
    "collapsed": true
   },
   "outputs": [],
   "source": [
    "new_ranking = np.loadtxt('HSA_new_ranking_full',usecols=[0,1]) + 1"
   ]
  },
  {
   "cell_type": "code",
   "execution_count": 114,
   "metadata": {
    "collapsed": false
   },
   "outputs": [
    {
     "data": {
      "text/plain": [
       "array([[  45.,   70.],\n",
       "       [ 230.,  260.],\n",
       "       [  39.,   70.],\n",
       "       ..., \n",
       "       [ 558.,  570.],\n",
       "       [ 267.,  279.],\n",
       "       [  65.,   77.]])"
      ]
     },
     "execution_count": 114,
     "metadata": {},
     "output_type": "execute_result"
    }
   ],
   "source": [
    "new_ranking"
   ]
  },
  {
   "cell_type": "code",
   "execution_count": 116,
   "metadata": {
    "collapsed": true
   },
   "outputs": [],
   "source": [
    "dist_ = np.array([distancesFull[tuple(row)] for row in new_ranking])"
   ]
  },
  {
   "cell_type": "code",
   "execution_count": 119,
   "metadata": {
    "collapsed": false
   },
   "outputs": [
    {
     "data": {
      "text/plain": [
       "695"
      ]
     },
     "execution_count": 119,
     "metadata": {},
     "output_type": "execute_result"
    }
   ],
   "source": [
    "np.sum(dist_ < 25) #/ len(dist_)"
   ]
  },
  {
   "cell_type": "code",
   "execution_count": 120,
   "metadata": {
    "collapsed": false
   },
   "outputs": [
    {
     "data": {
      "text/plain": [
       "1.370808678500986"
      ]
     },
     "execution_count": 120,
     "metadata": {},
     "output_type": "execute_result"
    }
   ],
   "source": [
    "695 / 507"
   ]
  },
  {
   "cell_type": "code",
   "execution_count": 121,
   "metadata": {
    "collapsed": false
   },
   "outputs": [
    {
     "data": {
      "text/plain": [
       "1.2304469273743017"
      ]
     },
     "execution_count": 121,
     "metadata": {},
     "output_type": "execute_result"
    }
   ],
   "source": [
    ".881/ .716"
   ]
  },
  {
   "cell_type": "code",
   "execution_count": 122,
   "metadata": {
    "collapsed": false
   },
   "outputs": [
    {
     "data": {
      "text/plain": [
       "0.8127128263337117"
      ]
     },
     "execution_count": 122,
     "metadata": {},
     "output_type": "execute_result"
    }
   ],
   "source": [
    ".716 / .881"
   ]
  },
  {
   "cell_type": "code",
   "execution_count": 123,
   "metadata": {
    "collapsed": false
   },
   "outputs": [
    {
     "ename": "SyntaxError",
     "evalue": "invalid syntax (<ipython-input-123-19e5de2c6529>, line 1)",
     "output_type": "error",
     "traceback": [
      "\u001b[0;36m  File \u001b[0;32m\"<ipython-input-123-19e5de2c6529>\"\u001b[0;36m, line \u001b[0;32m1\u001b[0m\n\u001b[0;31m    short: 371 medium: 104 long: 604\u001b[0m\n\u001b[0m         ^\u001b[0m\n\u001b[0;31mSyntaxError\u001b[0m\u001b[0;31m:\u001b[0m invalid syntax\n"
     ]
    }
   ],
   "source": [
    "short: 371 medium: 104 long: 604"
   ]
  },
  {
   "cell_type": "code",
   "execution_count": 124,
   "metadata": {
    "collapsed": false
   },
   "outputs": [
    {
     "data": {
      "text/plain": [
       "554"
      ]
     },
     "execution_count": 124,
     "metadata": {},
     "output_type": "execute_result"
    }
   ],
   "source": [
    "get_range(new_ranking).shape[0]"
   ]
  },
  {
   "cell_type": "code",
   "execution_count": 128,
   "metadata": {
    "collapsed": false
   },
   "outputs": [
    {
     "data": {
      "text/plain": [
       "473"
      ]
     },
     "execution_count": 128,
     "metadata": {},
     "output_type": "execute_result"
    }
   ],
   "source": [
    "get_range(new_ranking[i_]).shape[0]"
   ]
  },
  {
   "cell_type": "code",
   "execution_count": 133,
   "metadata": {
    "collapsed": true
   },
   "outputs": [],
   "source": [
    "i_ = np.where(dist_xl20Full < 25)[0]"
   ]
  },
  {
   "cell_type": "code",
   "execution_count": 136,
   "metadata": {
    "collapsed": false
   },
   "outputs": [
    {
     "data": {
      "text/plain": [
       "410"
      ]
     },
     "execution_count": 136,
     "metadata": {},
     "output_type": "execute_result"
    }
   ],
   "source": [
    "get_range(xl20Full[i_]).shape[0]"
   ]
  },
  {
   "cell_type": "code",
   "execution_count": 137,
   "metadata": {
    "collapsed": false
   },
   "outputs": [
    {
     "data": {
      "text/plain": [
       "1.1536585365853658"
      ]
     },
     "execution_count": 137,
     "metadata": {},
     "output_type": "execute_result"
    }
   ],
   "source": [
    "473 / 410"
   ]
  },
  {
   "cell_type": "code",
   "execution_count": null,
   "metadata": {
    "collapsed": true
   },
   "outputs": [],
   "source": []
  }
 ],
 "metadata": {
  "kernelspec": {
   "display_name": "Python 3",
   "language": "python",
   "name": "python3"
  },
  "language_info": {
   "codemirror_mode": {
    "name": "ipython",
    "version": 3
   },
   "file_extension": ".py",
   "mimetype": "text/x-python",
   "name": "python",
   "nbconvert_exporter": "python",
   "pygments_lexer": "ipython3",
   "version": "3.5.2"
  }
 },
 "nbformat": 4,
 "nbformat_minor": 2
}
