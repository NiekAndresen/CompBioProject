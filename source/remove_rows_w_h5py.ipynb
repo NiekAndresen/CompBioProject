{
 "cells": [
  {
   "cell_type": "code",
   "execution_count": 1,
   "metadata": {
    "collapsed": true
   },
   "outputs": [],
   "source": [
    "import numpy as np\n",
    "import h5py\n",
    "import pandas as pd"
   ]
  },
  {
   "cell_type": "code",
   "execution_count": 2,
   "metadata": {
    "collapsed": true
   },
   "outputs": [],
   "source": [
    "f = h5py.File('/home/niek/HSA_data/data_experiment_1_2_reduced.h5','r')"
   ]
  },
  {
   "cell_type": "code",
   "execution_count": 7,
   "metadata": {
    "collapsed": false,
    "scrolled": true
   },
   "outputs": [
    {
     "name": "stdout",
     "output_type": "stream",
     "text": [
      "0         1\n",
      "1         1\n",
      "2         1\n",
      "3         0\n",
      "4         0\n",
      "5         1\n",
      "6         1\n",
      "7         0\n",
      "8         0\n",
      "9         0\n",
      "10        0\n",
      "11        1\n",
      "12        0\n",
      "13        0\n",
      "14        0\n",
      "15        1\n",
      "16        1\n",
      "17        0\n",
      "18        1\n",
      "19        0\n",
      "20        0\n",
      "21        1\n",
      "22        1\n",
      "23        0\n",
      "24        0\n",
      "25        0\n",
      "26        0\n",
      "27        0\n",
      "28        0\n",
      "29        0\n",
      "         ..\n",
      "825559    1\n",
      "825560    1\n",
      "825561    1\n",
      "825562    1\n",
      "825563    1\n",
      "825564    1\n",
      "825565    1\n",
      "825566    1\n",
      "825567    1\n",
      "825568    1\n",
      "825569    1\n",
      "825570    1\n",
      "825571    1\n",
      "825572    1\n",
      "825573    1\n",
      "825574    1\n",
      "825575    1\n",
      "825576    1\n",
      "825577    1\n",
      "825578    1\n",
      "825579    1\n",
      "825580    1\n",
      "825581    1\n",
      "825582    1\n",
      "825583    1\n",
      "825584    1\n",
      "825585    1\n",
      "825586    1\n",
      "825587    1\n",
      "825588    1\n",
      "Name: decoy, dtype: int64\n"
     ]
    }
   ],
   "source": [
    "a = pd.read_hdf('/home/niek/HSA_data/data_experiment_1_2.h5', key='decoy')\n",
    "print(a['decoy'])"
   ]
  },
  {
   "cell_type": "code",
   "execution_count": 15,
   "metadata": {
    "collapsed": false
   },
   "outputs": [
    {
     "name": "stdout",
     "output_type": "stream",
     "text": [
      "before:  <class 'pandas.io.pytables.HDFStore'>\n",
      "File path: /home/niek/HSA_data/data_experiment_1_2_reduced_removed.h5\n",
      "Empty\n",
      "after:  <class 'pandas.io.pytables.HDFStore'>\n",
      "File path: /home/niek/HSA_data/data_experiment_1_2_reduced_removed.h5\n",
      "/BasePeptide1                  frame        (shape->[1,1])     \n",
      "/BasePeptide2                  frame        (shape->[1,1])     \n",
      "/LengthPeptide1                frame        (shape->[220751,1])\n",
      "/LengthPeptide2                frame        (shape->[220751,1])\n",
      "/LinkWindow1                   frame        (shape->[1,1])     \n",
      "/LinkWindow2                   frame        (shape->[1,1])     \n",
      "/Linked_AminoAcid_1            frame        (shape->[1,1])     \n",
      "/Linked_AminoAcid_2            frame        (shape->[1,1])     \n",
      "/Modifications1                frame        (shape->[1,1])     \n",
      "/Modifications2                frame        (shape->[1,1])     \n",
      "/PeptideMass1                  frame        (shape->[220751,1])\n",
      "/PeptideMass2                  frame        (shape->[220751,1])\n",
      "/ProteinLink1                  frame        (shape->[220751,1])\n",
      "/ProteinLink2                  frame        (shape->[220751,1])\n",
      "/Run                           frame        (shape->[1,1])     \n",
      "/Start1                        frame        (shape->[220751,1])\n",
      "/Start2                        frame        (shape->[220751,1])\n",
      "/decoy                         frame        (shape->[220751,1])\n",
      "/match_score                   frame        (shape->[220751,1])\n"
     ]
    }
   ],
   "source": [
    "filename = \"/home/niek/HSA_data/data_experiment_1_2_reduced_removed.h5\"\n",
    "store = pd.HDFStore(filename)\n",
    "print(\"before: \", store)\n",
    "selection = a['decoy'] == 0\n",
    "for key in f:\n",
    "    col = pd.read_hdf('/home/niek/HSA_data/data_experiment_1_2.h5', key=key)\n",
    "    col = col[selection]\n",
    "    store[key] = col\n",
    "print(\"after: \", store)"
   ]
  },
  {
   "cell_type": "code",
   "execution_count": 16,
   "metadata": {
    "collapsed": true
   },
   "outputs": [],
   "source": [
    "store.close()"
   ]
  },
  {
   "cell_type": "code",
   "execution_count": null,
   "metadata": {
    "collapsed": true
   },
   "outputs": [],
   "source": []
  }
 ],
 "metadata": {
  "kernelspec": {
   "display_name": "Python 3",
   "language": "python",
   "name": "python3"
  },
  "language_info": {
   "codemirror_mode": {
    "name": "ipython",
    "version": 3
   },
   "file_extension": ".py",
   "mimetype": "text/x-python",
   "name": "python",
   "nbconvert_exporter": "python",
   "pygments_lexer": "ipython3",
   "version": "3.5.2"
  }
 },
 "nbformat": 4,
 "nbformat_minor": 0
}
