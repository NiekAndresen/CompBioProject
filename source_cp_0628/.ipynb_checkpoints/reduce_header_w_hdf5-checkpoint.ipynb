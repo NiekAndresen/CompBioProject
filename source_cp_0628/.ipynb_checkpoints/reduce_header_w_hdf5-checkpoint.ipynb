{
 "cells": [
  {
   "cell_type": "code",
   "execution_count": 1,
   "metadata": {
    "collapsed": true
   },
   "outputs": [],
   "source": [
    "import numpy as np\n",
    "import h5py\n",
    "import pandas as pd"
   ]
  },
  {
   "cell_type": "code",
   "execution_count": 3,
   "metadata": {
    "collapsed": false
   },
   "outputs": [],
   "source": [
    "f = h5py.File('/home/niek/HSA_data/data_experiment_1_2.h5','r')"
   ]
  },
  {
   "cell_type": "code",
   "execution_count": 10,
   "metadata": {
    "collapsed": false
   },
   "outputs": [
    {
     "name": "stdout",
     "output_type": "stream",
     "text": [
      "1-ErrorRelative\n",
      "AllScore\n",
      "AllScoreLib\n",
      "Autovalidation\n",
      "Average1-RelativeMS2Error\n",
      "AverageCharge\n",
      "AverageMS2Error\n",
      "AverageRelativeMS2Error\n",
      "BS3ReporterIonScore\n",
      "BasePeptide1\n",
      "BasePeptide2\n",
      "CalcMZ\n",
      "CalcMass\n",
      "Containing\n",
      "Crosslinked\n",
      "Crosslinker\n",
      "CrosslinkerMass\n",
      "ElutionEnd\n",
      "ElutionStart\n",
      "Fasta1\n",
      "Fasta2\n",
      "FragmentLibraryScore\n",
      "FragmentLibraryScoreExponential\n",
      "FragmentLibraryScoreLog\n",
      "J48ModeledManual001\n",
      "LengthPeptide1\n",
      "LengthPeptide2\n",
      "Link1\n",
      "Link2\n",
      "LinkWindow1\n",
      "LinkWindow2\n",
      "Linked_AminoAcid_1\n",
      "Linked_AminoAcid_2\n",
      "MatchRank\n",
      "MatchScore\n",
      "MaxCharge\n",
      "MeanSquareError\n",
      "MeanSquareRootError\n",
      "ModificationMasses1\n",
      "ModificationMasses2\n",
      "ModificationPositions1\n",
      "ModificationPositions2\n",
      "Modifications1\n",
      "Modifications2\n",
      "Modified\n",
      "NormScore\n",
      "OpenMass1\n",
      "OpenMass2\n",
      "OpenModPosition1\n",
      "OpenModPosition2\n",
      "OpenModWindow1\n",
      "OpenModWindow2\n",
      "Pep1Score\n",
      "Pep2Score\n",
      "Peptide1\n",
      "Peptide2\n",
      "PeptideLinkMap1\n",
      "PeptideLinkMap2\n",
      "PeptideMass1\n",
      "PeptideMass2\n",
      "PositionCount1\n",
      "PositionCount2\n",
      "PrecoursorAbsoluteErrorRelative\n",
      "PrecoursorCharge\n",
      "Precoursor_Absolute_Error\n",
      "Precoursor_Error\n",
      "PrecurserMZ\n",
      "PrecursorMass\n",
      "Protein1\n",
      "Protein1decoy\n",
      "Protein2\n",
      "Protein2decoy\n",
      "ProteinCount1\n",
      "ProteinCount2\n",
      "ProteinLink1\n",
      "ProteinLink2\n",
      "RandomTreeModeledManual\n",
      "RelativeAverageCharge\n",
      "RelativeMaxCharge\n",
      "Run\n",
      "Scan\n",
      "Source\n",
      "SpectraCoverageConservative\n",
      "Start1\n",
      "Start2\n",
      "betaCount\n",
      "betaCountInverse\n",
      "combinedDelta\n",
      "decoy\n",
      "decoyCrosslinker\n",
      "delta\n",
      "deltaMod\n",
      "fragment_conservative_coverage\n",
      "fragment_coverage\n",
      "fragment_lossy_coverage\n",
      "fragment_lossy_matched\n",
      "fragment_matched\n",
      "fragment_matched_conservative\n",
      "fragment_multimatched%\n",
      "fragment_non_lossy_coverage\n",
      "fragment_non_lossy_matched\n",
      "fragment_sequencetag_coverage%\n",
      "fragment_unique_matched\n",
      "fragment_unique_matched_conservative\n",
      "fragment_unique_matched_conservative_coverage\n",
      "fragment_unique_matched_lossy\n",
      "fragment_unique_matched_lossy_coverage\n",
      "fragment_unique_matched_non_lossy\n",
      "fragment_unique_matched_non_lossy_coverage\n",
      "lossy_fragment_matches\n",
      "match_score\n",
      "mgcAlpha\n",
      "mgcBeta\n",
      "mgcDelta\n",
      "mgcRank\n",
      "mgcScore\n",
      "mgcShiftedDelta\n",
      "mgxDelta\n",
      "mgxRank\n",
      "mgxScore\n",
      "peptide1_conservative_coverage\n",
      "peptide1_coverage\n",
      "peptide1_lossy_coverage\n",
      "peptide1_lossy_matched\n",
      "peptide1_matched\n",
      "peptide1_matched_conservative\n",
      "peptide1_multimatched%\n",
      "peptide1_non_lossy_coverage\n",
      "peptide1_non_lossy_matched\n",
      "peptide1_sequencetag_coverage%\n",
      "peptide1_unique_matched\n",
      "peptide1_unique_matched_conservative\n",
      "peptide1_unique_matched_conservative_coverage\n",
      "peptide1_unique_matched_lossy\n",
      "peptide1_unique_matched_lossy_coverage\n",
      "peptide1_unique_matched_non_lossy\n",
      "peptide1_unique_matched_non_lossy_coverage\n",
      "peptide2_conservative_coverage\n",
      "peptide2_coverage\n",
      "peptide2_lossy_coverage\n",
      "peptide2_lossy_matched\n",
      "peptide2_matched\n",
      "peptide2_matched_conservative\n",
      "peptide2_multimatched%\n",
      "peptide2_non_lossy_coverage\n",
      "peptide2_non_lossy_matched\n",
      "peptide2_sequencetag_coverage%\n",
      "peptide2_unique_matched\n",
      "peptide2_unique_matched_conservative\n",
      "peptide2_unique_matched_conservative_coverage\n",
      "peptide2_unique_matched_lossy\n",
      "peptide2_unique_matched_lossy_coverage\n",
      "peptide2_unique_matched_non_lossy\n",
      "peptide2_unique_matched_non_lossy_coverage\n",
      "spectra_intensity_nonlossy_coverage\n",
      "spectra_isotop%\n",
      "spectra_matched_isotop%\n",
      "spectra_matched_single%\n",
      "spectra_top100_matched%\n",
      "spectra_top10_matched%\n",
      "spectra_top20_matched%\n",
      "spectra_top40_matched%\n",
      "spectrum_intensity_coverage\n",
      "spectrum_peaks_coverage\n",
      "spectrum_quality_score\n",
      "total_fragment_matches\n",
      "validated\n",
      "167\n"
     ]
    }
   ],
   "source": [
    "count = 0\n",
    "for key in f.keys():\n",
    "    print(key)\n",
    "    count += 1\n",
    "    #for key2 in f[key]:\n",
    "    #print(key2)\n",
    "print(count)"
   ]
  },
  {
   "cell_type": "code",
   "execution_count": 5,
   "metadata": {
    "collapsed": false
   },
   "outputs": [],
   "source": [
    "f.close()"
   ]
  },
  {
   "cell_type": "code",
   "execution_count": 2,
   "metadata": {
    "collapsed": false
   },
   "outputs": [
    {
     "ename": "ValueError",
     "evalue": "key must be provided when HDF file contains multiple datasets.",
     "output_type": "error",
     "traceback": [
      "\u001b[1;31m---------------------------------------------------------------------------\u001b[0m",
      "\u001b[1;31mValueError\u001b[0m                                Traceback (most recent call last)",
      "\u001b[1;32m<ipython-input-2-9194caa8fc87>\u001b[0m in \u001b[0;36m<module>\u001b[1;34m()\u001b[0m\n\u001b[1;32m----> 1\u001b[1;33m \u001b[0ma\u001b[0m \u001b[1;33m=\u001b[0m \u001b[0mpd\u001b[0m\u001b[1;33m.\u001b[0m\u001b[0mread_hdf\u001b[0m\u001b[1;33m(\u001b[0m\u001b[1;34m'/home/niek/HSA_data/data_experiment_1_2.h5'\u001b[0m\u001b[1;33m)\u001b[0m\u001b[1;33m\u001b[0m\u001b[0m\n\u001b[0m\u001b[0;32m      2\u001b[0m \u001b[0mprint\u001b[0m\u001b[1;33m(\u001b[0m\u001b[0ma\u001b[0m\u001b[1;33m)\u001b[0m\u001b[1;33m\u001b[0m\u001b[0m\n\u001b[0;32m      3\u001b[0m \u001b[1;31m#a['Fasta1'][0]\u001b[0m\u001b[1;33m\u001b[0m\u001b[1;33m\u001b[0m\u001b[0m\n",
      "\u001b[1;32m/home/niek/miniconda3/lib/python3.5/site-packages/pandas/io/pytables.py\u001b[0m in \u001b[0;36mread_hdf\u001b[1;34m(path_or_buf, key, **kwargs)\u001b[0m\n\u001b[0;32m    325\u001b[0m             \u001b[0mkeys\u001b[0m \u001b[1;33m=\u001b[0m \u001b[0mstore\u001b[0m\u001b[1;33m.\u001b[0m\u001b[0mkeys\u001b[0m\u001b[1;33m(\u001b[0m\u001b[1;33m)\u001b[0m\u001b[1;33m\u001b[0m\u001b[0m\n\u001b[0;32m    326\u001b[0m             \u001b[1;32mif\u001b[0m \u001b[0mlen\u001b[0m\u001b[1;33m(\u001b[0m\u001b[0mkeys\u001b[0m\u001b[1;33m)\u001b[0m \u001b[1;33m!=\u001b[0m \u001b[1;36m1\u001b[0m\u001b[1;33m:\u001b[0m\u001b[1;33m\u001b[0m\u001b[0m\n\u001b[1;32m--> 327\u001b[1;33m                 raise ValueError('key must be provided when HDF file contains '\n\u001b[0m\u001b[0;32m    328\u001b[0m                                  'multiple datasets.')\n\u001b[0;32m    329\u001b[0m             \u001b[0mkey\u001b[0m \u001b[1;33m=\u001b[0m \u001b[0mkeys\u001b[0m\u001b[1;33m[\u001b[0m\u001b[1;36m0\u001b[0m\u001b[1;33m]\u001b[0m\u001b[1;33m\u001b[0m\u001b[0m\n",
      "\u001b[1;31mValueError\u001b[0m: key must be provided when HDF file contains multiple datasets."
     ]
    }
   ],
   "source": [
    "a = pd.read_hdf('/home/niek/HSA_data/data_experiment_1_2.h5', key='match_score')\n",
    "print(a)\n",
    "#a['Fasta1'][0]"
   ]
  },
  {
   "cell_type": "code",
   "execution_count": 3,
   "metadata": {
    "collapsed": true
   },
   "outputs": [],
   "source": [
    "f = h5py.File('/home/niek/HSA_data/data_experiment_1_2.h5','r')"
   ]
  },
  {
   "cell_type": "code",
   "execution_count": 11,
   "metadata": {
    "collapsed": false
   },
   "outputs": [
    {
     "name": "stdout",
     "output_type": "stream",
     "text": [
      "<HDF5 group \"/Run\" (4 members)>\n",
      "<HDF5 group \"/decoy\" (4 members)>\n",
      "<HDF5 group \"/BasePeptide1\" (4 members)>\n",
      "<HDF5 group \"/PeptideMass1\" (4 members)>\n",
      "<HDF5 group \"/Start1\" (4 members)>\n",
      "<HDF5 group \"/LengthPeptide1\" (4 members)>\n",
      "<HDF5 group \"/Linked_AminoAcid_1\" (4 members)>\n",
      "<HDF5 group \"/LinkWindow1\" (4 members)>\n",
      "<HDF5 group \"/ProteinLink1\" (4 members)>\n",
      "<HDF5 group \"/Modifications1\" (4 members)>\n",
      "<HDF5 group \"/BasePeptide2\" (4 members)>\n",
      "<HDF5 group \"/PeptideMass2\" (4 members)>\n",
      "<HDF5 group \"/Start2\" (4 members)>\n",
      "<HDF5 group \"/LengthPeptide2\" (4 members)>\n",
      "<HDF5 group \"/Linked_AminoAcid_2\" (4 members)>\n",
      "<HDF5 group \"/LinkWindow2\" (4 members)>\n",
      "<HDF5 group \"/ProteinLink2\" (4 members)>\n",
      "<HDF5 group \"/Modifications2\" (4 members)>\n",
      "<HDF5 group \"/match_score\" (4 members)>\n",
      "19\n"
     ]
    }
   ],
   "source": [
    "with open('/home/niek/HSA_data/header_reduced', 'r') as hr:\n",
    "    header = hr.readline()[:-1] #removed \\n at the end of line\n",
    "count = 0\n",
    "for key in header.split(','):\n",
    "    count += 1\n",
    "    print(f[key])\n",
    "print(count)"
   ]
  },
  {
   "cell_type": "code",
   "execution_count": 2,
   "metadata": {
    "collapsed": false
   },
   "outputs": [
    {
     "name": "stdout",
     "output_type": "stream",
     "text": [
      "before:  <class 'pandas.io.pytables.HDFStore'>\n",
      "File path: /home/niek/HSA_data/data_experiment_1_2_reduced.h5\n",
      "Empty\n"
     ]
    },
    {
     "ename": "NameError",
     "evalue": "name 'read_hdf' is not defined",
     "output_type": "error",
     "traceback": [
      "\u001b[1;31m---------------------------------------------------------------------------\u001b[0m",
      "\u001b[1;31mNameError\u001b[0m                                 Traceback (most recent call last)",
      "\u001b[1;32m<ipython-input-2-534a42a4a799>\u001b[0m in \u001b[0;36m<module>\u001b[1;34m()\u001b[0m\n\u001b[0;32m      6\u001b[0m \u001b[0mi\u001b[0m \u001b[1;33m=\u001b[0m \u001b[1;36m0\u001b[0m\u001b[1;33m\u001b[0m\u001b[0m\n\u001b[0;32m      7\u001b[0m \u001b[1;32mfor\u001b[0m \u001b[0mkey\u001b[0m \u001b[1;32min\u001b[0m \u001b[0mheader\u001b[0m\u001b[1;33m.\u001b[0m\u001b[0msplit\u001b[0m\u001b[1;33m(\u001b[0m\u001b[1;34m','\u001b[0m\u001b[1;33m)\u001b[0m\u001b[1;33m:\u001b[0m\u001b[1;33m\u001b[0m\u001b[0m\n\u001b[1;32m----> 8\u001b[1;33m     \u001b[0mcol\u001b[0m \u001b[1;33m=\u001b[0m \u001b[0mread_hdf\u001b[0m\u001b[1;33m(\u001b[0m\u001b[1;34m'/home/niek/HSA_data/data_experiment_1_2.h5'\u001b[0m\u001b[1;33m,\u001b[0m \u001b[0mkey\u001b[0m\u001b[1;33m=\u001b[0m\u001b[0mkey\u001b[0m\u001b[1;33m)\u001b[0m\u001b[1;33m\u001b[0m\u001b[0m\n\u001b[0m\u001b[0;32m      9\u001b[0m     \u001b[0mstore\u001b[0m\u001b[1;33m[\u001b[0m\u001b[0mkey\u001b[0m\u001b[1;33m]\u001b[0m \u001b[1;33m=\u001b[0m \u001b[0mcol\u001b[0m\u001b[1;33m\u001b[0m\u001b[0m\n\u001b[0;32m     10\u001b[0m     \u001b[0mi\u001b[0m \u001b[1;33m+=\u001b[0m \u001b[1;36m1\u001b[0m\u001b[1;33m\u001b[0m\u001b[0m\n",
      "\u001b[1;31mNameError\u001b[0m: name 'read_hdf' is not defined"
     ]
    }
   ],
   "source": [
    "filename = \"/home/niek/HSA_data/data_experiment_1_2_reduced.h5\"\n",
    "store = pd.HDFStore(filename)\n",
    "print(\"before: \", store)\n",
    "with open('/home/niek/HSA_data/header_reduced', 'r') as hr:\n",
    "    header = hr.readline()[:-1] #removed \\n at the end of line\n",
    "i = 0\n",
    "for key in header.split(','):\n",
    "    col = pd.read_hdf('/home/niek/HSA_data/data_experiment_1_2.h5', key=key)\n",
    "    store[key] = col\n",
    "    i += 1\n",
    "print(\"after: \", store)\n",
    "store.close()"
   ]
  },
  {
   "cell_type": "code",
   "execution_count": null,
   "metadata": {
    "collapsed": true
   },
   "outputs": [],
   "source": []
  }
 ],
 "metadata": {
  "kernelspec": {
   "display_name": "Python 3",
   "language": "python",
   "name": "python3"
  },
  "language_info": {
   "codemirror_mode": {
    "name": "ipython",
    "version": 3
   },
   "file_extension": ".py",
   "mimetype": "text/x-python",
   "name": "python",
   "nbconvert_exporter": "python",
   "pygments_lexer": "ipython3",
   "version": "3.5.2"
  }
 },
 "nbformat": 4,
 "nbformat_minor": 0
}
