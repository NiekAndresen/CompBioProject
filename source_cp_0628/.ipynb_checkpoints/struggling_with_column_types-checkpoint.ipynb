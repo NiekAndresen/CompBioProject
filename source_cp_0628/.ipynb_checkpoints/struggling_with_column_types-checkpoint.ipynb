{
 "cells": [
  {
   "cell_type": "code",
   "execution_count": 2,
   "metadata": {
    "collapsed": false
   },
   "outputs": [],
   "source": [
    "import h5py\n",
    "#h5py.run_tests()"
   ]
  },
  {
   "cell_type": "code",
   "execution_count": 3,
   "metadata": {
    "collapsed": true
   },
   "outputs": [],
   "source": [
    "import pandas as pd\n",
    "import numpy as np"
   ]
  },
  {
   "cell_type": "code",
   "execution_count": 4,
   "metadata": {
    "collapsed": false
   },
   "outputs": [
    {
     "name": "stderr",
     "output_type": "stream",
     "text": [
      "/home/niek/miniconda3/lib/python3.5/site-packages/IPython/core/interactiveshell.py:2723: DtypeWarning: Columns (78) have mixed types. Specify dtype option on import or set low_memory=False.\n",
      "  interactivity=interactivity, compiler=compiler, result=result)\n"
     ]
    },
    {
     "name": "stdout",
     "output_type": "stream",
     "text": [
      "Index(['Run', 'Scan', 'Source', 'ElutionStart', 'ElutionEnd', 'PrecursorMass',\n",
      "       'PrecoursorCharge', 'PrecurserMZ', 'CalcMass', 'CalcMZ',\n",
      "       ...\n",
      "       'Pep2Score', 'spectrum quality score', 'AllScore', 'AllScoreLib',\n",
      "       'MatchScore', 'NormScore', 'J48ModeledManual001',\n",
      "       'RandomTreeModeledManual', 'Autovalidation', 'match score'],\n",
      "      dtype='object', length=167)\n"
     ]
    }
   ],
   "source": [
    "filename = \"/home/niek/HSA_data/wat.h5\"\n",
    "store = pd.HDFStore(filename)\n",
    "#dtype = {'MeanSquareRootError':float}\n",
    "pd_data = pd.read_csv(\"/home/niek/HSA_data/data_experiment_1_2.csv\", data_columns=True)#cant do low_memory=False, will run out of memory\n",
    "print(pd_data.keys())"
   ]
  },
  {
   "cell_type": "code",
   "execution_count": 5,
   "metadata": {
    "collapsed": false
   },
   "outputs": [
    {
     "name": "stdout",
     "output_type": "stream",
     "text": [
      "Run                                     object\n",
      "Scan                                     int64\n",
      "Source                                  object\n",
      "ElutionStart                           float64\n",
      "ElutionEnd                             float64\n",
      "PrecursorMass                          float64\n",
      "PrecoursorCharge                         int64\n",
      "PrecurserMZ                            float64\n",
      "CalcMass                               float64\n",
      "CalcMZ                                 float64\n",
      "validated                                 bool\n",
      "decoy                                    int64\n",
      "MatchRank                                int64\n",
      "Crosslinker                             object\n",
      "CrosslinkerMass                        float64\n",
      " decoyCrosslinker                      float64\n",
      "Protein1                                object\n",
      "Fasta1                                  object\n",
      "Protein1decoy                            int64\n",
      "Peptide1                                object\n",
      "BasePeptide1                            object\n",
      "PeptideLinkMap1                         object\n",
      "PeptideMass1                           float64\n",
      "Start1                                   int64\n",
      "LengthPeptide1                           int64\n",
      "Link1                                  float64\n",
      "Linked AminoAcid 1                      object\n",
      "LinkWindow1                             object\n",
      "ProteinLink1                           float64\n",
      "ProteinCount1                            int64\n",
      "                                        ...   \n",
      "peptide2 sequencetag coverage%         float64\n",
      "FragmentLibraryScore                   float64\n",
      "FragmentLibraryScoreExponential        float64\n",
      "FragmentLibraryScoreLog                float64\n",
      "spectrum intensity coverage            float64\n",
      "spectra intensity nonlossy coverage    float64\n",
      "spectra isotop%                        float64\n",
      "spectra matched isotop%                float64\n",
      "spectra matched single%                float64\n",
      "spectra top10 matched%                 float64\n",
      "spectra top20 matched%                 float64\n",
      "spectra top40 matched%                 float64\n",
      "spectra top100 matched%                float64\n",
      "spectrum peaks coverage                float64\n",
      "SpectraCoverageConservative            float64\n",
      "BS3ReporterIonScore                    float64\n",
      "Crosslinked                            float64\n",
      "Modified                               float64\n",
      "Containing                             float64\n",
      "Pep1Score                              float64\n",
      "Pep2Score                              float64\n",
      "spectrum quality score                 float64\n",
      "AllScore                               float64\n",
      "AllScoreLib                            float64\n",
      "MatchScore                             float64\n",
      "NormScore                              float64\n",
      "J48ModeledManual001                    float64\n",
      "RandomTreeModeledManual                float64\n",
      "Autovalidation                         float64\n",
      "match score                            float64\n",
      "dtype: object\n"
     ]
    }
   ],
   "source": [
    "print(pd_data.dtypes)"
   ]
  },
  {
   "cell_type": "code",
   "execution_count": 9,
   "metadata": {
    "collapsed": false
   },
   "outputs": [],
   "source": [
    "col = pd_data['MeanSquareRootError']\n",
    "col = col.replace('Infinity', np.inf)\n",
    "pd_data['MeanSquareRootError'] = col.apply(str)\n",
    "print(pd_data['MeanSquareRootError'].dtype)"
   ]
  },
  {
   "cell_type": "code",
   "execution_count": 11,
   "metadata": {
    "collapsed": false
   },
   "outputs": [],
   "source": [
    "pd_data['MeanSquareRootError'].to_hdf('/home/niek/HSA_data/test.h5', 'HSA_exptest_1_2', append=True)"
   ]
  },
  {
   "cell_type": "code",
   "execution_count": 12,
   "metadata": {
    "collapsed": false
   },
   "outputs": [
    {
     "ename": "Exception",
     "evalue": "cannot find the correct atom type -> [dtype->object,items->Index(['Run', 'Source', 'Crosslinker', 'Protein1', 'Fasta1', 'Peptide1',\n       'BasePeptide1', 'PeptideLinkMap1', 'Linked AminoAcid 1', 'LinkWindow1',\n       'Modifications1', 'ModificationPositions1', 'ModificationMasses1',\n       'Protein2', 'Fasta2', 'Peptide2', 'BasePeptide2', 'PeptideLinkMap2',\n       'Linked AminoAcid 2', 'LinkWindow2', 'Modifications2',\n       'ModificationPositions2', 'ModificationMasses2', 'MeanSquareRootError'],\n      dtype='object')] ",
     "output_type": "error",
     "traceback": [
      "\u001b[1;31m---------------------------------------------------------------------------\u001b[0m",
      "\u001b[1;31mMemoryError\u001b[0m                               Traceback (most recent call last)",
      "\u001b[1;32m/home/niek/miniconda3/lib/python3.5/site-packages/pandas/io/pytables.py\u001b[0m in \u001b[0;36mcreate_axes\u001b[1;34m(self, axes, obj, validate, nan_rep, data_columns, min_itemsize, **kwargs)\u001b[0m\n\u001b[0;32m   3454\u001b[0m                              \u001b[0minfo\u001b[0m\u001b[1;33m=\u001b[0m\u001b[0mself\u001b[0m\u001b[1;33m.\u001b[0m\u001b[0minfo\u001b[0m\u001b[1;33m,\u001b[0m\u001b[1;33m\u001b[0m\u001b[0m\n\u001b[1;32m-> 3455\u001b[1;33m                              **kwargs)\n\u001b[0m\u001b[0;32m   3456\u001b[0m                 \u001b[0mcol\u001b[0m\u001b[1;33m.\u001b[0m\u001b[0mset_pos\u001b[0m\u001b[1;33m(\u001b[0m\u001b[0mj\u001b[0m\u001b[1;33m)\u001b[0m\u001b[1;33m\u001b[0m\u001b[0m\n",
      "\u001b[1;32m/home/niek/miniconda3/lib/python3.5/site-packages/pandas/io/pytables.py\u001b[0m in \u001b[0;36mset_atom\u001b[1;34m(self, block, block_items, existing_col, min_itemsize, nan_rep, info, encoding, **kwargs)\u001b[0m\n\u001b[0;32m   1831\u001b[0m                 \u001b[0mnan_rep\u001b[0m\u001b[1;33m,\u001b[0m\u001b[1;33m\u001b[0m\u001b[0m\n\u001b[1;32m-> 1832\u001b[1;33m                 encoding)\n\u001b[0m\u001b[0;32m   1833\u001b[0m \u001b[1;33m\u001b[0m\u001b[0m\n",
      "\u001b[1;32m/home/niek/miniconda3/lib/python3.5/site-packages/pandas/io/pytables.py\u001b[0m in \u001b[0;36mset_atom_string\u001b[1;34m(self, block, block_items, existing_col, min_itemsize, nan_rep, encoding)\u001b[0m\n\u001b[0;32m   1867\u001b[0m         \u001b[1;31m# itemsize is the maximum length of a string (along any dimension)\u001b[0m\u001b[1;33m\u001b[0m\u001b[1;33m\u001b[0m\u001b[0m\n\u001b[1;32m-> 1868\u001b[1;33m         \u001b[0mdata_converted\u001b[0m \u001b[1;33m=\u001b[0m \u001b[0m_convert_string_array\u001b[0m\u001b[1;33m(\u001b[0m\u001b[0mdata\u001b[0m\u001b[1;33m,\u001b[0m \u001b[0mencoding\u001b[0m\u001b[1;33m)\u001b[0m\u001b[1;33m\u001b[0m\u001b[0m\n\u001b[0m\u001b[0;32m   1869\u001b[0m         \u001b[0mitemsize\u001b[0m \u001b[1;33m=\u001b[0m \u001b[0mdata_converted\u001b[0m\u001b[1;33m.\u001b[0m\u001b[0mitemsize\u001b[0m\u001b[1;33m\u001b[0m\u001b[0m\n",
      "\u001b[1;32m/home/niek/miniconda3/lib/python3.5/site-packages/pandas/io/pytables.py\u001b[0m in \u001b[0;36m_convert_string_array\u001b[1;34m(data, encoding, itemsize)\u001b[0m\n\u001b[0;32m   4454\u001b[0m \u001b[1;33m\u001b[0m\u001b[0m\n\u001b[1;32m-> 4455\u001b[1;33m     \u001b[0mdata\u001b[0m \u001b[1;33m=\u001b[0m \u001b[0mnp\u001b[0m\u001b[1;33m.\u001b[0m\u001b[0masarray\u001b[0m\u001b[1;33m(\u001b[0m\u001b[0mdata\u001b[0m\u001b[1;33m,\u001b[0m \u001b[0mdtype\u001b[0m\u001b[1;33m=\u001b[0m\u001b[1;34m\"S%d\"\u001b[0m \u001b[1;33m%\u001b[0m \u001b[0mitemsize\u001b[0m\u001b[1;33m)\u001b[0m\u001b[1;33m\u001b[0m\u001b[0m\n\u001b[0m\u001b[0;32m   4456\u001b[0m     \u001b[1;32mreturn\u001b[0m \u001b[0mdata\u001b[0m\u001b[1;33m\u001b[0m\u001b[0m\n",
      "\u001b[1;32m/home/niek/miniconda3/lib/python3.5/site-packages/numpy/core/numeric.py\u001b[0m in \u001b[0;36masarray\u001b[1;34m(a, dtype, order)\u001b[0m\n\u001b[0;32m    481\u001b[0m     \"\"\"\n\u001b[1;32m--> 482\u001b[1;33m     \u001b[1;32mreturn\u001b[0m \u001b[0marray\u001b[0m\u001b[1;33m(\u001b[0m\u001b[0ma\u001b[0m\u001b[1;33m,\u001b[0m \u001b[0mdtype\u001b[0m\u001b[1;33m,\u001b[0m \u001b[0mcopy\u001b[0m\u001b[1;33m=\u001b[0m\u001b[1;32mFalse\u001b[0m\u001b[1;33m,\u001b[0m \u001b[0morder\u001b[0m\u001b[1;33m=\u001b[0m\u001b[0morder\u001b[0m\u001b[1;33m)\u001b[0m\u001b[1;33m\u001b[0m\u001b[0m\n\u001b[0m\u001b[0;32m    483\u001b[0m \u001b[1;33m\u001b[0m\u001b[0m\n",
      "\u001b[1;31mMemoryError\u001b[0m: ",
      "\nDuring handling of the above exception, another exception occurred:\n",
      "\u001b[1;31mException\u001b[0m                                 Traceback (most recent call last)",
      "\u001b[1;32m<ipython-input-12-dee61e66c992>\u001b[0m in \u001b[0;36m<module>\u001b[1;34m()\u001b[0m\n\u001b[1;32m----> 1\u001b[1;33m \u001b[0mpd_data\u001b[0m\u001b[1;33m.\u001b[0m\u001b[0mto_hdf\u001b[0m\u001b[1;33m(\u001b[0m\u001b[1;34m'/home/niek/HSA_data/data_experiment_1_2.h5'\u001b[0m\u001b[1;33m,\u001b[0m \u001b[1;34m'HSA_exp_1_2'\u001b[0m\u001b[1;33m,\u001b[0m \u001b[0mappend\u001b[0m\u001b[1;33m=\u001b[0m\u001b[1;32mTrue\u001b[0m\u001b[1;33m)\u001b[0m\u001b[1;33m\u001b[0m\u001b[0m\n\u001b[0m",
      "\u001b[1;32m/home/niek/miniconda3/lib/python3.5/site-packages/pandas/core/generic.py\u001b[0m in \u001b[0;36mto_hdf\u001b[1;34m(self, path_or_buf, key, **kwargs)\u001b[0m\n\u001b[0;32m   1099\u001b[0m \u001b[1;33m\u001b[0m\u001b[0m\n\u001b[0;32m   1100\u001b[0m         \u001b[1;32mfrom\u001b[0m \u001b[0mpandas\u001b[0m\u001b[1;33m.\u001b[0m\u001b[0mio\u001b[0m \u001b[1;32mimport\u001b[0m \u001b[0mpytables\u001b[0m\u001b[1;33m\u001b[0m\u001b[0m\n\u001b[1;32m-> 1101\u001b[1;33m         \u001b[1;32mreturn\u001b[0m \u001b[0mpytables\u001b[0m\u001b[1;33m.\u001b[0m\u001b[0mto_hdf\u001b[0m\u001b[1;33m(\u001b[0m\u001b[0mpath_or_buf\u001b[0m\u001b[1;33m,\u001b[0m \u001b[0mkey\u001b[0m\u001b[1;33m,\u001b[0m \u001b[0mself\u001b[0m\u001b[1;33m,\u001b[0m \u001b[1;33m**\u001b[0m\u001b[0mkwargs\u001b[0m\u001b[1;33m)\u001b[0m\u001b[1;33m\u001b[0m\u001b[0m\n\u001b[0m\u001b[0;32m   1102\u001b[0m \u001b[1;33m\u001b[0m\u001b[0m\n\u001b[0;32m   1103\u001b[0m     \u001b[1;32mdef\u001b[0m \u001b[0mto_msgpack\u001b[0m\u001b[1;33m(\u001b[0m\u001b[0mself\u001b[0m\u001b[1;33m,\u001b[0m \u001b[0mpath_or_buf\u001b[0m\u001b[1;33m=\u001b[0m\u001b[1;32mNone\u001b[0m\u001b[1;33m,\u001b[0m \u001b[0mencoding\u001b[0m\u001b[1;33m=\u001b[0m\u001b[1;34m'utf-8'\u001b[0m\u001b[1;33m,\u001b[0m \u001b[1;33m**\u001b[0m\u001b[0mkwargs\u001b[0m\u001b[1;33m)\u001b[0m\u001b[1;33m:\u001b[0m\u001b[1;33m\u001b[0m\u001b[0m\n",
      "\u001b[1;32m/home/niek/miniconda3/lib/python3.5/site-packages/pandas/io/pytables.py\u001b[0m in \u001b[0;36mto_hdf\u001b[1;34m(path_or_buf, key, value, mode, complevel, complib, append, **kwargs)\u001b[0m\n\u001b[0;32m    258\u001b[0m         with HDFStore(path_or_buf, mode=mode, complevel=complevel,\n\u001b[0;32m    259\u001b[0m                       complib=complib) as store:\n\u001b[1;32m--> 260\u001b[1;33m             \u001b[0mf\u001b[0m\u001b[1;33m(\u001b[0m\u001b[0mstore\u001b[0m\u001b[1;33m)\u001b[0m\u001b[1;33m\u001b[0m\u001b[0m\n\u001b[0m\u001b[0;32m    261\u001b[0m     \u001b[1;32melse\u001b[0m\u001b[1;33m:\u001b[0m\u001b[1;33m\u001b[0m\u001b[0m\n\u001b[0;32m    262\u001b[0m         \u001b[0mf\u001b[0m\u001b[1;33m(\u001b[0m\u001b[0mpath_or_buf\u001b[0m\u001b[1;33m)\u001b[0m\u001b[1;33m\u001b[0m\u001b[0m\n",
      "\u001b[1;32m/home/niek/miniconda3/lib/python3.5/site-packages/pandas/io/pytables.py\u001b[0m in \u001b[0;36m<lambda>\u001b[1;34m(store)\u001b[0m\n\u001b[0;32m    251\u001b[0m \u001b[1;33m\u001b[0m\u001b[0m\n\u001b[0;32m    252\u001b[0m     \u001b[1;32mif\u001b[0m \u001b[0mappend\u001b[0m\u001b[1;33m:\u001b[0m\u001b[1;33m\u001b[0m\u001b[0m\n\u001b[1;32m--> 253\u001b[1;33m         \u001b[0mf\u001b[0m \u001b[1;33m=\u001b[0m \u001b[1;32mlambda\u001b[0m \u001b[0mstore\u001b[0m\u001b[1;33m:\u001b[0m \u001b[0mstore\u001b[0m\u001b[1;33m.\u001b[0m\u001b[0mappend\u001b[0m\u001b[1;33m(\u001b[0m\u001b[0mkey\u001b[0m\u001b[1;33m,\u001b[0m \u001b[0mvalue\u001b[0m\u001b[1;33m,\u001b[0m \u001b[1;33m**\u001b[0m\u001b[0mkwargs\u001b[0m\u001b[1;33m)\u001b[0m\u001b[1;33m\u001b[0m\u001b[0m\n\u001b[0m\u001b[0;32m    254\u001b[0m     \u001b[1;32melse\u001b[0m\u001b[1;33m:\u001b[0m\u001b[1;33m\u001b[0m\u001b[0m\n\u001b[0;32m    255\u001b[0m         \u001b[0mf\u001b[0m \u001b[1;33m=\u001b[0m \u001b[1;32mlambda\u001b[0m \u001b[0mstore\u001b[0m\u001b[1;33m:\u001b[0m \u001b[0mstore\u001b[0m\u001b[1;33m.\u001b[0m\u001b[0mput\u001b[0m\u001b[1;33m(\u001b[0m\u001b[0mkey\u001b[0m\u001b[1;33m,\u001b[0m \u001b[0mvalue\u001b[0m\u001b[1;33m,\u001b[0m \u001b[1;33m**\u001b[0m\u001b[0mkwargs\u001b[0m\u001b[1;33m)\u001b[0m\u001b[1;33m\u001b[0m\u001b[0m\n",
      "\u001b[1;32m/home/niek/miniconda3/lib/python3.5/site-packages/pandas/io/pytables.py\u001b[0m in \u001b[0;36mappend\u001b[1;34m(self, key, value, format, append, columns, dropna, **kwargs)\u001b[0m\n\u001b[0;32m    917\u001b[0m         \u001b[0mkwargs\u001b[0m \u001b[1;33m=\u001b[0m \u001b[0mself\u001b[0m\u001b[1;33m.\u001b[0m\u001b[0m_validate_format\u001b[0m\u001b[1;33m(\u001b[0m\u001b[0mformat\u001b[0m\u001b[1;33m,\u001b[0m \u001b[0mkwargs\u001b[0m\u001b[1;33m)\u001b[0m\u001b[1;33m\u001b[0m\u001b[0m\n\u001b[0;32m    918\u001b[0m         self._write_to_group(key, value, append=append, dropna=dropna,\n\u001b[1;32m--> 919\u001b[1;33m                              **kwargs)\n\u001b[0m\u001b[0;32m    920\u001b[0m \u001b[1;33m\u001b[0m\u001b[0m\n\u001b[0;32m    921\u001b[0m     def append_to_multiple(self, d, value, selector, data_columns=None,\n",
      "\u001b[1;32m/home/niek/miniconda3/lib/python3.5/site-packages/pandas/io/pytables.py\u001b[0m in \u001b[0;36m_write_to_group\u001b[1;34m(self, key, value, format, index, append, complib, encoding, **kwargs)\u001b[0m\n\u001b[0;32m   1262\u001b[0m \u001b[1;33m\u001b[0m\u001b[0m\n\u001b[0;32m   1263\u001b[0m         \u001b[1;31m# write the object\u001b[0m\u001b[1;33m\u001b[0m\u001b[1;33m\u001b[0m\u001b[0m\n\u001b[1;32m-> 1264\u001b[1;33m         \u001b[0ms\u001b[0m\u001b[1;33m.\u001b[0m\u001b[0mwrite\u001b[0m\u001b[1;33m(\u001b[0m\u001b[0mobj\u001b[0m\u001b[1;33m=\u001b[0m\u001b[0mvalue\u001b[0m\u001b[1;33m,\u001b[0m \u001b[0mappend\u001b[0m\u001b[1;33m=\u001b[0m\u001b[0mappend\u001b[0m\u001b[1;33m,\u001b[0m \u001b[0mcomplib\u001b[0m\u001b[1;33m=\u001b[0m\u001b[0mcomplib\u001b[0m\u001b[1;33m,\u001b[0m \u001b[1;33m**\u001b[0m\u001b[0mkwargs\u001b[0m\u001b[1;33m)\u001b[0m\u001b[1;33m\u001b[0m\u001b[0m\n\u001b[0m\u001b[0;32m   1265\u001b[0m \u001b[1;33m\u001b[0m\u001b[0m\n\u001b[0;32m   1266\u001b[0m         \u001b[1;32mif\u001b[0m \u001b[0ms\u001b[0m\u001b[1;33m.\u001b[0m\u001b[0mis_table\u001b[0m \u001b[1;32mand\u001b[0m \u001b[0mindex\u001b[0m\u001b[1;33m:\u001b[0m\u001b[1;33m\u001b[0m\u001b[0m\n",
      "\u001b[1;32m/home/niek/miniconda3/lib/python3.5/site-packages/pandas/io/pytables.py\u001b[0m in \u001b[0;36mwrite\u001b[1;34m(self, obj, axes, append, complib, complevel, fletcher32, min_itemsize, chunksize, expectedrows, dropna, **kwargs)\u001b[0m\n\u001b[0;32m   3785\u001b[0m         self.create_axes(axes=axes, obj=obj, validate=append,\n\u001b[0;32m   3786\u001b[0m                          \u001b[0mmin_itemsize\u001b[0m\u001b[1;33m=\u001b[0m\u001b[0mmin_itemsize\u001b[0m\u001b[1;33m,\u001b[0m\u001b[1;33m\u001b[0m\u001b[0m\n\u001b[1;32m-> 3787\u001b[1;33m                          **kwargs)\n\u001b[0m\u001b[0;32m   3788\u001b[0m \u001b[1;33m\u001b[0m\u001b[0m\n\u001b[0;32m   3789\u001b[0m         \u001b[1;32mfor\u001b[0m \u001b[0ma\u001b[0m \u001b[1;32min\u001b[0m \u001b[0mself\u001b[0m\u001b[1;33m.\u001b[0m\u001b[0maxes\u001b[0m\u001b[1;33m:\u001b[0m\u001b[1;33m\u001b[0m\u001b[0m\n",
      "\u001b[1;32m/home/niek/miniconda3/lib/python3.5/site-packages/pandas/io/pytables.py\u001b[0m in \u001b[0;36mcreate_axes\u001b[1;34m(self, axes, obj, validate, nan_rep, data_columns, min_itemsize, **kwargs)\u001b[0m\n\u001b[0;32m   3463\u001b[0m                     \u001b[1;34m\"cannot find the correct atom type -> \"\u001b[0m\u001b[1;33m\u001b[0m\u001b[0m\n\u001b[0;32m   3464\u001b[0m                     \u001b[1;34m\"[dtype->%s,items->%s] %s\"\u001b[0m\u001b[1;33m\u001b[0m\u001b[0m\n\u001b[1;32m-> 3465\u001b[1;33m                     \u001b[1;33m%\u001b[0m \u001b[1;33m(\u001b[0m\u001b[0mb\u001b[0m\u001b[1;33m.\u001b[0m\u001b[0mdtype\u001b[0m\u001b[1;33m.\u001b[0m\u001b[0mname\u001b[0m\u001b[1;33m,\u001b[0m \u001b[0mb_items\u001b[0m\u001b[1;33m,\u001b[0m \u001b[0mstr\u001b[0m\u001b[1;33m(\u001b[0m\u001b[0mdetail\u001b[0m\u001b[1;33m)\u001b[0m\u001b[1;33m)\u001b[0m\u001b[1;33m\u001b[0m\u001b[0m\n\u001b[0m\u001b[0;32m   3466\u001b[0m                 )\n\u001b[0;32m   3467\u001b[0m             \u001b[0mj\u001b[0m \u001b[1;33m+=\u001b[0m \u001b[1;36m1\u001b[0m\u001b[1;33m\u001b[0m\u001b[0m\n",
      "\u001b[1;31mException\u001b[0m: cannot find the correct atom type -> [dtype->object,items->Index(['Run', 'Source', 'Crosslinker', 'Protein1', 'Fasta1', 'Peptide1',\n       'BasePeptide1', 'PeptideLinkMap1', 'Linked AminoAcid 1', 'LinkWindow1',\n       'Modifications1', 'ModificationPositions1', 'ModificationMasses1',\n       'Protein2', 'Fasta2', 'Peptide2', 'BasePeptide2', 'PeptideLinkMap2',\n       'Linked AminoAcid 2', 'LinkWindow2', 'Modifications2',\n       'ModificationPositions2', 'ModificationMasses2', 'MeanSquareRootError'],\n      dtype='object')] "
     ]
    }
   ],
   "source": [
    "pd_data.to_hdf('/home/niek/HSA_data/data_experiment_1_2.h5', 'HSA_exp_1_2', append=True)\n",
    "#Exception: cannot find the correct atom type -> [dtype->object,items->Index(['Run', 'Source', 'Crosslinker', 'Protein1', 'Fasta1', 'Peptide1',\n",
    "#       'BasePeptide1', 'PeptideLinkMap1', 'Linked AminoAcid 1', 'LinkWindow1',\n",
    "#       'Modifications1', 'ModificationPositions1', 'ModificationMasses1',\n",
    "#       'Protein2', 'Fasta2', 'Peptide2', 'BasePeptide2', 'PeptideLinkMap2',\n",
    "#       'Linked AminoAcid 2', 'LinkWindow2', 'Modifications2',\n",
    "#       'ModificationPositions2', 'ModificationMasses2', 'MeanSquareRootError'],\n",
    "#      dtype='object')] \n",
    "#and/or MemoryError"
   ]
  },
  {
   "cell_type": "code",
   "execution_count": null,
   "metadata": {
    "collapsed": true
   },
   "outputs": [],
   "source": [
    "#try adding column by column:\n",
    "# http://stackoverflow.com/questions/15488809/how-to-trouble-shoot-hdfstore-exception-cannot-find-the-correct-atom-type"
   ]
  },
  {
   "cell_type": "code",
   "execution_count": null,
   "metadata": {
    "collapsed": false
   },
   "outputs": [],
   "source": [
    "strings = set()\n",
    "for i,val in enumerate(col):\n",
    "    try:\n",
    "        fl = float(val)\n",
    "    except ValueError:\n",
    "        strings.add(val)\n",
    "        continue\n",
    "    if fl!=fl or fl-1==fl: #nan or inf\n",
    "        strings.add(val)\n",
    "print(len(col))\n",
    "for w in strings:\n",
    "    print(w)"
   ]
  },
  {
   "cell_type": "code",
   "execution_count": null,
   "metadata": {
    "collapsed": false
   },
   "outputs": [],
   "source": [
    "pair = (col[0], 'Infinity')\n",
    "print(list(map(lambda x: float(x)==float(x) and float(x)-1!=float(x), pair)))"
   ]
  },
  {
   "cell_type": "code",
   "execution_count": null,
   "metadata": {
    "collapsed": true
   },
   "outputs": [],
   "source": [
    "f = h5py.File('data_experiment_1_2.h5', 'r')"
   ]
  },
  {
   "cell_type": "code",
   "execution_count": null,
   "metadata": {
    "collapsed": false
   },
   "outputs": [],
   "source": [
    "f.visit(print)"
   ]
  },
  {
   "cell_type": "code",
   "execution_count": null,
   "metadata": {
    "collapsed": false
   },
   "outputs": [],
   "source": [
    "f['HSA_exp_1_2/table']"
   ]
  },
  {
   "cell_type": "code",
   "execution_count": null,
   "metadata": {
    "collapsed": true
   },
   "outputs": [],
   "source": []
  }
 ],
 "metadata": {
  "kernelspec": {
   "display_name": "Python 3",
   "language": "python",
   "name": "python3"
  },
  "language_info": {
   "codemirror_mode": {
    "name": "ipython",
    "version": 3
   },
   "file_extension": ".py",
   "mimetype": "text/x-python",
   "name": "python",
   "nbconvert_exporter": "python",
   "pygments_lexer": "ipython3",
   "version": "3.5.2"
  }
 },
 "nbformat": 4,
 "nbformat_minor": 0
}
