{
 "cells": [
  {
   "cell_type": "code",
   "execution_count": null,
   "metadata": {
    "collapsed": false
   },
   "outputs": [],
   "source": [
    "import h5py\n",
    "#h5py.run_tests()"
   ]
  },
  {
   "cell_type": "code",
   "execution_count": null,
   "metadata": {
    "collapsed": true
   },
   "outputs": [],
   "source": [
    "import pandas as pd\n",
    "import numpy as np"
   ]
  },
  {
   "cell_type": "code",
   "execution_count": null,
   "metadata": {
    "collapsed": false
   },
   "outputs": [],
   "source": [
    "filename = \"/home/niek/HSA_data/wat.h5\"\n",
    "store = pd.HDFStore(filename)\n",
    "#dtype = {'MeanSquareRootError':float}\n",
    "pd_data = pd.read_csv(\"/home/niek/HSA_data/data_experiment_1_2.csv\")#cant do low_memory=False, will run out of memory\n",
    "print(pd_data.keys())"
   ]
  },
  {
   "cell_type": "code",
   "execution_count": null,
   "metadata": {
    "collapsed": false
   },
   "outputs": [],
   "source": [
    "print(pd_data.dtypes)"
   ]
  },
  {
   "cell_type": "code",
   "execution_count": null,
   "metadata": {
    "collapsed": false
   },
   "outputs": [],
   "source": [
    "col = pd_data['MeanSquareRootError']\n",
    "col = col.replace('Infinity', np.inf)\n",
    "pd_data['MeanSquareRootError'] = col.apply(float)\n",
    "print(pd_data['MeanSquareRootError'].dtype)"
   ]
  },
  {
   "cell_type": "code",
   "execution_count": null,
   "metadata": {
    "collapsed": false
   },
   "outputs": [],
   "source": [
    "count = 0\n",
    "for t in pd_data:\n",
    "    if pd_data[t].dtype == 'object':\n",
    "        print(\"changing %s\"%t)\n",
    "        pd_data[t] = pd_data.astype(str)"
   ]
  },
  {
   "cell_type": "code",
   "execution_count": null,
   "metadata": {
    "collapsed": false
   },
   "outputs": [],
   "source": [
    "pd_data['MeanSquareRootError'].to_hdf('/home/niek/HSA_data/test.h5', 'HSA_exptest_1_2', append=True)"
   ]
  },
  {
   "cell_type": "code",
   "execution_count": null,
   "metadata": {
    "collapsed": false
   },
   "outputs": [],
   "source": [
    "pd_data.to_hdf('/home/niek/HSA_data/data_experiment_1_2.h5', 'HSA_exp_1_2', append=True)\n",
    "#Exception: cannot find the correct atom type -> [dtype->object,items->Index(['Run', 'Source', 'Crosslinker', 'Protein1', 'Fasta1', 'Peptide1',\n",
    "#       'BasePeptide1', 'PeptideLinkMap1', 'Linked AminoAcid 1', 'LinkWindow1',\n",
    "#       'Modifications1', 'ModificationPositions1', 'ModificationMasses1',\n",
    "#       'Protein2', 'Fasta2', 'Peptide2', 'BasePeptide2', 'PeptideLinkMap2',\n",
    "#       'Linked AminoAcid 2', 'LinkWindow2', 'Modifications2',\n",
    "#       'ModificationPositions2', 'ModificationMasses2', 'MeanSquareRootError'],\n",
    "#      dtype='object')] \n",
    "#and/or MemoryError"
   ]
  },
  {
   "cell_type": "code",
   "execution_count": null,
   "metadata": {
    "collapsed": true
   },
   "outputs": [],
   "source": [
    "#try adding column by column:\n",
    "# http://stackoverflow.com/questions/15488809/how-to-trouble-shoot-hdfstore-exception-cannot-find-the-correct-atom-type"
   ]
  },
  {
   "cell_type": "code",
   "execution_count": null,
   "metadata": {
    "collapsed": false
   },
   "outputs": [],
   "source": [
    "strings = set()\n",
    "for i,val in enumerate(col):\n",
    "    try:\n",
    "        fl = float(val)\n",
    "    except ValueError:\n",
    "        strings.add(val)\n",
    "        continue\n",
    "    if fl!=fl or fl-1==fl: #nan or inf\n",
    "        strings.add(val)\n",
    "print(len(col))\n",
    "for w in strings:\n",
    "    print(w)"
   ]
  },
  {
   "cell_type": "code",
   "execution_count": null,
   "metadata": {
    "collapsed": false
   },
   "outputs": [],
   "source": [
    "pair = (col[0], 'Infinity')\n",
    "print(list(map(lambda x: float(x)==float(x) and float(x)-1!=float(x), pair)))"
   ]
  },
  {
   "cell_type": "code",
   "execution_count": null,
   "metadata": {
    "collapsed": true
   },
   "outputs": [],
   "source": [
    "f = h5py.File('data_experiment_1_2.h5', 'r')"
   ]
  },
  {
   "cell_type": "code",
   "execution_count": null,
   "metadata": {
    "collapsed": false
   },
   "outputs": [],
   "source": [
    "f.visit(print)"
   ]
  },
  {
   "cell_type": "code",
   "execution_count": null,
   "metadata": {
    "collapsed": false
   },
   "outputs": [],
   "source": [
    "f['HSA_exp_1_2/table']"
   ]
  },
  {
   "cell_type": "code",
   "execution_count": null,
   "metadata": {
    "collapsed": true
   },
   "outputs": [],
   "source": []
  }
 ],
 "metadata": {
  "kernelspec": {
   "display_name": "Python 3",
   "language": "python",
   "name": "python3"
  },
  "language_info": {
   "codemirror_mode": {
    "name": "ipython",
    "version": 3
   },
   "file_extension": ".py",
   "mimetype": "text/x-python",
   "name": "python",
   "nbconvert_exporter": "python",
   "pygments_lexer": "ipython3",
   "version": "3.5.2"
  }
 },
 "nbformat": 4,
 "nbformat_minor": 0
}
